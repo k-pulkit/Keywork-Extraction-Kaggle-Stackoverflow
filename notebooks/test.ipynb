{
 "cells": [
  {
   "cell_type": "code",
   "execution_count": 27,
   "metadata": {},
   "outputs": [],
   "source": [
    "import pandas as pd\n",
    "import dask.dataframe as dd\n",
    "from dask.distributed import Client\n",
    "from dask import delayed\n",
    "from dask.multiprocessing import get\n",
    "import numpy as np\n"
   ]
  },
  {
   "cell_type": "code",
   "execution_count": 33,
   "metadata": {},
   "outputs": [],
   "source": [
    "n = 1000000\n",
    "\n",
    "data = pd.DataFrame(np.random.rand(4*n).reshape((n, 4)), columns = ['a', 'b', 'c', 'd'])\n",
    "ddata = dd.from_pandas(data, npartitions=12)"
   ]
  },
  {
   "cell_type": "code",
   "execution_count": 34,
   "metadata": {},
   "outputs": [
    {
     "data": {
      "text/plain": [
       "0         2.030168\n",
       "1         2.305121\n",
       "2         2.140922\n",
       "3         1.885470\n",
       "4         2.362767\n",
       "            ...   \n",
       "999995    2.240480\n",
       "999996    2.104046\n",
       "999997    2.773158\n",
       "999998    1.867770\n",
       "999999    2.125504\n",
       "Length: 1000000, dtype: float64"
      ]
     },
     "execution_count": 34,
     "metadata": {},
     "output_type": "execute_result"
    }
   ],
   "source": [
    "def fun(row):\n",
    "    return np.sum(row)\n",
    "\n",
    "res = ddata.map_partitions(lambda df: df.apply(lambda row: fun(row), axis = 1)).compute(scheduler=\"threads\")\n",
    "res"
   ]
  },
  {
   "cell_type": "markdown",
   "metadata": {},
   "source": [
    "# Text preprocessing"
   ]
  },
  {
   "cell_type": "code",
   "execution_count": 35,
   "metadata": {},
   "outputs": [
    {
     "data": {
      "text/html": [
       "<style type='text/css'>\n",
       ".datatable table.frame { margin-bottom: 0; }\n",
       ".datatable table.frame thead { border-bottom: none; }\n",
       ".datatable table.frame tr.coltypes td {  color: #FFFFFF;  line-height: 6px;  padding: 0 0.5em;}\n",
       ".datatable .bool    { background: #DDDD99; }\n",
       ".datatable .object  { background: #565656; }\n",
       ".datatable .int     { background: #5D9E5D; }\n",
       ".datatable .float   { background: #4040CC; }\n",
       ".datatable .str     { background: #CC4040; }\n",
       ".datatable .row_index {  background: var(--jp-border-color3);  border-right: 1px solid var(--jp-border-color0);  color: var(--jp-ui-font-color3);  font-size: 9px;}\n",
       ".datatable .frame tr.coltypes .row_index {  background: var(--jp-border-color0);}\n",
       ".datatable th:nth-child(2) { padding-left: 12px; }\n",
       ".datatable .hellipsis {  color: var(--jp-cell-editor-border-color);}\n",
       ".datatable .vellipsis {  background: var(--jp-layout-color0);  color: var(--jp-cell-editor-border-color);}\n",
       ".datatable .na {  color: var(--jp-cell-editor-border-color);  font-size: 80%;}\n",
       ".datatable .footer { font-size: 9px; }\n",
       ".datatable .frame_dimensions {  background: var(--jp-border-color3);  border-top: 1px solid var(--jp-border-color0);  color: var(--jp-ui-font-color3);  display: inline-block;  opacity: 0.6;  padding: 1px 10px 1px 5px;}\n",
       "</style>\n"
      ],
      "text/plain": [
       "<IPython.core.display.HTML object>"
      ]
     },
     "metadata": {},
     "output_type": "display_data"
    },
    {
     "name": "stdout",
     "output_type": "stream",
     "text": [
      "/home/mluser/projects/Keywork-Extraction-Kaggle-Stackoverflow\n"
     ]
    }
   ],
   "source": [
    "#import some libraries\n",
    "\n",
    "from datatable import by, dt, f\n",
    "import datatable, os, pandas as pd, numpy as np\n",
    "\n",
    "import matplotlib.pyplot as plt\n",
    "import seaborn as sns\n",
    "\n",
    "%cd ..\n"
   ]
  },
  {
   "cell_type": "code",
   "execution_count": 36,
   "metadata": {},
   "outputs": [
    {
     "data": {
      "text/html": [
       "<div class='datatable'>\n",
       "  <table class='frame'>\n",
       "  <thead>\n",
       "    <tr class='colnames'><td class='row_index'></td><th>Title</th><th>Body</th><th>c#</th><th>java</th><th>php</th><th>javascript</th><th>android</th><th>jquery</th><th>c++</th><th>python</th><th class='vellipsis'>&hellip;</th><th>asp.net-mvc-3</th><th>image</th><th>html5</th><th>networking</th><th>homework</th></tr>\n",
       "    <tr class='coltypes'><td class='row_index'></td><td class='str' title='str32'>&#x25AA;&#x25AA;&#x25AA;&#x25AA;</td><td class='str' title='str32'>&#x25AA;&#x25AA;&#x25AA;&#x25AA;</td><td class='bool' title='bool8'>&#x25AA;</td><td class='bool' title='bool8'>&#x25AA;</td><td class='bool' title='bool8'>&#x25AA;</td><td class='bool' title='bool8'>&#x25AA;</td><td class='bool' title='bool8'>&#x25AA;</td><td class='bool' title='bool8'>&#x25AA;</td><td class='bool' title='bool8'>&#x25AA;</td><td class='bool' title='bool8'>&#x25AA;</td><td></td><td class='bool' title='bool8'>&#x25AA;</td><td class='bool' title='bool8'>&#x25AA;</td><td class='bool' title='bool8'>&#x25AA;</td><td class='bool' title='bool8'>&#x25AA;</td><td class='bool' title='bool8'>&#x25AA;</td></tr>\n",
       "  </thead>\n",
       "  <tbody>\n",
       "    <tr><td class='row_index'>0</td><td>     Implementing Boundary Value Analysis of Softw&#133;</td><td>&lt;pre&gt;&lt;code&gt;#include&amp;lt;iostream&amp;gt;\n",
       "#include&amp;lt;st&#133;</td><td>0</td><td>0</td><td>0</td><td>0</td><td>0</td><td>0</td><td>1</td><td>0</td><td class=vellipsis>&hellip;</td><td>0</td><td>0</td><td>0</td><td>0</td><td>0</td></tr>\n",
       "    <tr><td class='row_index'>1</td><td>    Dynamic Datagrid Binding in Silverlight?</td><td>&lt;p&gt;I should do binding for datagrid dynamically at&#133;</td><td>1</td><td>0</td><td>0</td><td>0</td><td>0</td><td>0</td><td>0</td><td>0</td><td class=vellipsis>&hellip;</td><td>0</td><td>0</td><td>0</td><td>0</td><td>0</td></tr>\n",
       "  </tbody>\n",
       "  </table>\n",
       "  <div class='footer'>\n",
       "    <div class='frame_dimensions'>2 rows &times; 52 columns</div>\n",
       "  </div>\n",
       "</div>\n"
      ],
      "text/plain": [
       "<Frame#7f838d0ef570 2x52>"
      ]
     },
     "execution_count": 36,
     "metadata": {},
     "output_type": "execute_result"
    }
   ],
   "source": [
    "data_r = datatable.fread(\"./input/data_no_dupes_top50.csv\", max_nrows=10)\n",
    "data = data_r[:, f[:].remove([f[\"#tags\"], f[\"count_duples\"], f[ \"Tags\"]])]\n",
    "\n",
    "data.head(2)"
   ]
  },
  {
   "cell_type": "code",
   "execution_count": 41,
   "metadata": {},
   "outputs": [
    {
     "name": "stdout",
     "output_type": "stream",
     "text": [
      "X -->  Index(['Title', 'Body'], dtype='object')\n"
     ]
    },
    {
     "data": {
      "text/html": [
       "<div class='datatable'>\n",
       "  <table class='frame'>\n",
       "  <thead>\n",
       "    <tr class='colnames'><td class='row_index'></td><th>c#</th><th>java</th><th>php</th><th>javascript</th><th>android</th><th>jquery</th><th>c++</th><th>python</th><th>iphone</th><th>asp.net</th><th class='vellipsis'>&hellip;</th><th>asp.net-mvc-3</th><th>image</th><th>html5</th><th>networking</th><th>homework</th></tr>\n",
       "    <tr class='coltypes'><td class='row_index'></td><td class='bool' title='bool8'>&#x25AA;</td><td class='bool' title='bool8'>&#x25AA;</td><td class='bool' title='bool8'>&#x25AA;</td><td class='bool' title='bool8'>&#x25AA;</td><td class='bool' title='bool8'>&#x25AA;</td><td class='bool' title='bool8'>&#x25AA;</td><td class='bool' title='bool8'>&#x25AA;</td><td class='bool' title='bool8'>&#x25AA;</td><td class='bool' title='bool8'>&#x25AA;</td><td class='bool' title='bool8'>&#x25AA;</td><td></td><td class='bool' title='bool8'>&#x25AA;</td><td class='bool' title='bool8'>&#x25AA;</td><td class='bool' title='bool8'>&#x25AA;</td><td class='bool' title='bool8'>&#x25AA;</td><td class='bool' title='bool8'>&#x25AA;</td></tr>\n",
       "  </thead>\n",
       "  <tbody>\n",
       "    <tr><td class='row_index'>0</td><td>0</td><td>0</td><td>0</td><td>0</td><td>0</td><td>0</td><td>1</td><td>0</td><td>0</td><td>0</td><td class=vellipsis>&hellip;</td><td>0</td><td>0</td><td>0</td><td>0</td><td>0</td></tr>\n",
       "  </tbody>\n",
       "  </table>\n",
       "  <div class='footer'>\n",
       "    <div class='frame_dimensions'>1 row &times; 50 columns</div>\n",
       "  </div>\n",
       "</div>\n"
      ],
      "text/plain": [
       "<Frame#7f838cfcecc0 1x50>"
      ]
     },
     "execution_count": 41,
     "metadata": {},
     "output_type": "execute_result"
    }
   ],
   "source": [
    "X = data[:, [\"Title\", \"Body\"]].to_pandas()\n",
    "Y = data[:, data.names[2:]]\n",
    "\n",
    "print(\"X --> \", X.columns)\n",
    "Y.head(1)"
   ]
  },
  {
   "cell_type": "markdown",
   "metadata": {},
   "source": [
    "## Logic below"
   ]
  },
  {
   "cell_type": "code",
   "execution_count": 47,
   "metadata": {},
   "outputs": [
    {
     "data": {
      "text/html": [
       "<div>\n",
       "<style scoped>\n",
       "    .dataframe tbody tr th:only-of-type {\n",
       "        vertical-align: middle;\n",
       "    }\n",
       "\n",
       "    .dataframe tbody tr th {\n",
       "        vertical-align: top;\n",
       "    }\n",
       "\n",
       "    .dataframe thead th {\n",
       "        text-align: right;\n",
       "    }\n",
       "</style>\n",
       "<table border=\"1\" class=\"dataframe\">\n",
       "  <thead>\n",
       "    <tr style=\"text-align: right;\">\n",
       "      <th></th>\n",
       "      <th>Title</th>\n",
       "      <th>Body</th>\n",
       "    </tr>\n",
       "  </thead>\n",
       "  <tbody>\n",
       "    <tr>\n",
       "      <th>0</th>\n",
       "      <td>Implementing Boundary Value Analysis of S...</td>\n",
       "      <td>&lt;pre&gt;&lt;code&gt;#include&amp;lt;iostream&amp;gt;\\n#include&amp;...</td>\n",
       "    </tr>\n",
       "  </tbody>\n",
       "</table>\n",
       "</div>"
      ],
      "text/plain": [
       "                                               Title  \\\n",
       "0       Implementing Boundary Value Analysis of S...   \n",
       "\n",
       "                                                Body  \n",
       "0  <pre><code>#include&lt;iostream&gt;\\n#include&...  "
      ]
     },
     "execution_count": 47,
     "metadata": {},
     "output_type": "execute_result"
    }
   ],
   "source": [
    "row = X.iloc[0]\n",
    "X.head(1)"
   ]
  },
  {
   "cell_type": "code",
   "execution_count": 51,
   "metadata": {},
   "outputs": [
    {
     "data": {
      "text/plain": [
       "Title         Implementing Boundary Value Analysis of S...\n",
       "Body     <pre><code>#include&lt;iostream&gt;\\n#include&...\n",
       "Name: 0, dtype: object"
      ]
     },
     "execution_count": 51,
     "metadata": {},
     "output_type": "execute_result"
    }
   ],
   "source": [
    "row = X.iloc[0]\n",
    "row"
   ]
  },
  {
   "cell_type": "markdown",
   "metadata": {},
   "source": [
    "Steps - \n",
    "* Sample\n",
    "* Remove code snippets\n",
    "* Remove special characters from remaining text\n",
    "* Remove stop words\n",
    "* remove HTML tags\n",
    "* convert to lowercase\n",
    "* Stem the words using snowball stemmer"
   ]
  },
  {
   "cell_type": "code",
   "execution_count": 73,
   "metadata": {},
   "outputs": [],
   "source": [
    "import re\n",
    "from nltk.corpus import stopwords\n",
    "from nltk.stem.snowball import SnowballStemmer\n",
    "\n",
    "from nltk.tokenize import word_tokenize # to break sentences into words\n",
    "\n",
    "def striphtml(data):\n",
    "    # find the html tags and remove them\n",
    "    patt = re.compile('<.*?>')\n",
    "    cleantxt = re.sub(patt, ' ', str(data))\n",
    "    return cleantxt\n",
    "\n",
    "def process_row(row):\n",
    "    stop_words = set(stopwords.words('english'))\n",
    "    stemmer = SnowballStemmer(\"english\")\n",
    "\n",
    "    questions_with_code =  0\n",
    "    len_before = 0\n",
    "    len_after = 0\n",
    "\n",
    "    is_code = 0\n",
    "    title, question = row[0], row[1]\n",
    "\n",
    "    if \"<code>\" in question:\n",
    "        questions_with_code += 1\n",
    "        is_code = 1\n",
    "\n",
    "    x = len(question) + len(title)\n",
    "    len_before += x\n",
    "\n",
    "    # Find the code piece of question\n",
    "    code = str(re.findall(r'<code>(.*?)</code>', question, flags=re.DOTALL))\n",
    "    # remove the code\n",
    "    question = re.sub('<code>(.*?)</code>', '', question, flags=re.MULTILINE|re.DOTALL)\n",
    "\n",
    "    title=title.encode('utf-8')\n",
    "\n",
    "    # combine question and title, remove special characters, convert to lowercase\n",
    "    queti = str(title) + str(question)\n",
    "    queti = re.sub(r'[^A-Za-z]+',' ',queti).lower()\n",
    "\n",
    "    # get words\n",
    "    words = word_tokenize(str(queti))\n",
    "\n",
    "    #Removing all single letter and and stopwords from question except for the letter 'c'\n",
    "    queti_stop = ' '.join(str(stemmer.stem(j)) for j in words if j not in stop_words and (len(j)!=1 or j=='c'))\n",
    "\n",
    "    len_after += len(queti_stop)\n",
    "\n",
    "    return queti_stop, len(queti_stop), is_code, code, x\n"
   ]
  },
  {
   "cell_type": "code",
   "execution_count": 64,
   "metadata": {},
   "outputs": [],
   "source": [
    "import pandas as pd\n",
    "import dask.dataframe as dd\n",
    "from dask.distributed import Client\n",
    "from dask import delayed\n",
    "from dask.multiprocessing import get\n",
    "import numpy as np\n"
   ]
  },
  {
   "cell_type": "code",
   "execution_count": 66,
   "metadata": {},
   "outputs": [],
   "source": [
    "n = 1000000\n",
    "\n",
    "data = X\n",
    "ddata = dd.from_pandas(data, npartitions=12)"
   ]
  },
  {
   "cell_type": "code",
   "execution_count": 76,
   "metadata": {},
   "outputs": [
    {
     "data": {
      "text/html": [
       "<div>\n",
       "<style scoped>\n",
       "    .dataframe tbody tr th:only-of-type {\n",
       "        vertical-align: middle;\n",
       "    }\n",
       "\n",
       "    .dataframe tbody tr th {\n",
       "        vertical-align: top;\n",
       "    }\n",
       "\n",
       "    .dataframe thead th {\n",
       "        text-align: right;\n",
       "    }\n",
       "</style>\n",
       "<table border=\"1\" class=\"dataframe\">\n",
       "  <thead>\n",
       "    <tr style=\"text-align: right;\">\n",
       "      <th></th>\n",
       "      <th>queti_stop</th>\n",
       "      <th>len_queti_stop</th>\n",
       "      <th>is_code</th>\n",
       "      <th>code</th>\n",
       "      <th>len_pre</th>\n",
       "    </tr>\n",
       "  </thead>\n",
       "  <tbody>\n",
       "    <tr>\n",
       "      <th>0</th>\n",
       "      <td>implement boundari valu analysi softwar test c...</td>\n",
       "      <td>161</td>\n",
       "      <td>1</td>\n",
       "      <td>['#include&amp;lt;iostream&amp;gt;\\n#include&amp;lt;stdlib...</td>\n",
       "      <td>2116</td>\n",
       "    </tr>\n",
       "    <tr>\n",
       "      <th>1</th>\n",
       "      <td>dynam datagrid bind silverlight bind datagrid ...</td>\n",
       "      <td>192</td>\n",
       "      <td>1</td>\n",
       "      <td>['MyClass myInstance = new MyClass();\\ndataGri...</td>\n",
       "      <td>904</td>\n",
       "    </tr>\n",
       "    <tr>\n",
       "      <th>2</th>\n",
       "      <td>dynam datagrid bind silverlight bind datagrid ...</td>\n",
       "      <td>192</td>\n",
       "      <td>1</td>\n",
       "      <td>['MyClass myInstance = new MyClass();\\ndataGri...</td>\n",
       "      <td>904</td>\n",
       "    </tr>\n",
       "    <tr>\n",
       "      <th>3</th>\n",
       "      <td>java sql sqlexcept microsoft odbc driver manag...</td>\n",
       "      <td>121</td>\n",
       "      <td>1</td>\n",
       "      <td>['try {\\n    Class.forName(\"sun.jdbc.odbc.Jdbc...</td>\n",
       "      <td>1056</td>\n",
       "    </tr>\n",
       "    <tr>\n",
       "      <th>4</th>\n",
       "      <td>better way updat feed fb php sdk novic faceboo...</td>\n",
       "      <td>179</td>\n",
       "      <td>1</td>\n",
       "      <td>['$data = array(\"message\" =&amp;gt; \"Hello World!\"...</td>\n",
       "      <td>607</td>\n",
       "    </tr>\n",
       "    <tr>\n",
       "      <th>5</th>\n",
       "      <td>btnadd click event open two window record ad o...</td>\n",
       "      <td>190</td>\n",
       "      <td>1</td>\n",
       "      <td>['       //calling Search.aspx on button click...</td>\n",
       "      <td>1359</td>\n",
       "    </tr>\n",
       "    <tr>\n",
       "      <th>6</th>\n",
       "      <td>sql inject issu prevent correct form submiss p...</td>\n",
       "      <td>539</td>\n",
       "      <td>1</td>\n",
       "      <td>['{$variables}', '&amp;lt;div width=\"100%\"&amp;gt;\\n{$...</td>\n",
       "      <td>4874</td>\n",
       "    </tr>\n",
       "    <tr>\n",
       "      <th>7</th>\n",
       "      <td>undefin symbol architectur objc class skpsmtpm...</td>\n",
       "      <td>456</td>\n",
       "      <td>1</td>\n",
       "      <td>['Undefined symbols for architecture i386:\\n\\n...</td>\n",
       "      <td>1279</td>\n",
       "    </tr>\n",
       "    <tr>\n",
       "      <th>8</th>\n",
       "      <td>java lang nosuchmethoderror javax servlet serv...</td>\n",
       "      <td>908</td>\n",
       "      <td>1</td>\n",
       "      <td>['&amp;lt;?xml version=\"1.0\" encoding=\"UTF-8\"?&amp;gt;...</td>\n",
       "      <td>1852</td>\n",
       "    </tr>\n",
       "    <tr>\n",
       "      <th>9</th>\n",
       "      <td>obtain updat locat use gps servic app two butt...</td>\n",
       "      <td>355</td>\n",
       "      <td>1</td>\n",
       "      <td>['public void startButton(View view) {\\n\\n    ...</td>\n",
       "      <td>1053</td>\n",
       "    </tr>\n",
       "  </tbody>\n",
       "</table>\n",
       "</div>"
      ],
      "text/plain": [
       "                                          queti_stop  len_queti_stop  is_code  \\\n",
       "0  implement boundari valu analysi softwar test c...             161        1   \n",
       "1  dynam datagrid bind silverlight bind datagrid ...             192        1   \n",
       "2  dynam datagrid bind silverlight bind datagrid ...             192        1   \n",
       "3  java sql sqlexcept microsoft odbc driver manag...             121        1   \n",
       "4  better way updat feed fb php sdk novic faceboo...             179        1   \n",
       "5  btnadd click event open two window record ad o...             190        1   \n",
       "6  sql inject issu prevent correct form submiss p...             539        1   \n",
       "7  undefin symbol architectur objc class skpsmtpm...             456        1   \n",
       "8  java lang nosuchmethoderror javax servlet serv...             908        1   \n",
       "9  obtain updat locat use gps servic app two butt...             355        1   \n",
       "\n",
       "                                                code  len_pre  \n",
       "0  ['#include&lt;iostream&gt;\\n#include&lt;stdlib...     2116  \n",
       "1  ['MyClass myInstance = new MyClass();\\ndataGri...      904  \n",
       "2  ['MyClass myInstance = new MyClass();\\ndataGri...      904  \n",
       "3  ['try {\\n    Class.forName(\"sun.jdbc.odbc.Jdbc...     1056  \n",
       "4  ['$data = array(\"message\" =&gt; \"Hello World!\"...      607  \n",
       "5  ['       //calling Search.aspx on button click...     1359  \n",
       "6  ['{$variables}', '&lt;div width=\"100%\"&gt;\\n{$...     4874  \n",
       "7  ['Undefined symbols for architecture i386:\\n\\n...     1279  \n",
       "8  ['&lt;?xml version=\"1.0\" encoding=\"UTF-8\"?&gt;...     1852  \n",
       "9  ['public void startButton(View view) {\\n\\n    ...     1053  "
      ]
     },
     "execution_count": 76,
     "metadata": {},
     "output_type": "execute_result"
    }
   ],
   "source": [
    "res = ddata.map_partitions(lambda df: df.apply(lambda row: process_row(row), axis = 1, result_type=\"expand\")).compute(scheduler=\"threads\")\n",
    "res.columns = ['queti_stop', 'len_queti_stop', 'is_code', 'code', 'len_pre']\n",
    "res"
   ]
  },
  {
   "cell_type": "code",
   "execution_count": null,
   "metadata": {},
   "outputs": [],
   "source": []
  }
 ],
 "metadata": {
  "interpreter": {
   "hash": "4eb27b4fd260a1bb4a77c56ac6b2311f0f28968867d01e003c528146448d4f88"
  },
  "kernelspec": {
   "display_name": "Python 3.9.7 (conda)",
   "language": "python",
   "name": "python3"
  },
  "language_info": {
   "codemirror_mode": {
    "name": "ipython",
    "version": 3
   },
   "file_extension": ".py",
   "mimetype": "text/x-python",
   "name": "python",
   "nbconvert_exporter": "python",
   "pygments_lexer": "ipython3",
   "version": "3.9.7"
  },
  "orig_nbformat": 4
 },
 "nbformat": 4,
 "nbformat_minor": 2
}
