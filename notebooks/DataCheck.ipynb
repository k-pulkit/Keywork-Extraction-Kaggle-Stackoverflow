{
 "cells": [
  {
   "cell_type": "markdown",
   "metadata": {},
   "source": [
    "## Importing libraries"
   ]
  },
  {
   "cell_type": "code",
   "execution_count": 1,
   "metadata": {},
   "outputs": [],
   "source": [
    "import numpy as np\n",
    "import pandas as pd\n",
    "\n",
    "import matplotlib.pyplot as plt\n",
    "import seaborn as sns\n",
    "import warnings\n",
    "\n",
    "warnings.filterwarnings(\"ignore\")\n",
    "\n",
    "# database libraries\n",
    "import sqlite3 as s3\n",
    "from sqlalchemy import create_engine"
   ]
  },
  {
   "cell_type": "code",
   "execution_count": 2,
   "metadata": {},
   "outputs": [
    {
     "name": "stdout",
     "output_type": "stream",
     "text": [
      "File name : Test.csv and file size is 2253.54 MB\n",
      "File name : Train.csv and file size is 6917.87 MB\n",
      "File name : SampleSubmission.csv and file size is 78.72 MB\n",
      "File name : train.db and file size is 8309.86 MB\n"
     ]
    },
    {
     "data": {
      "text/plain": [
       "os.stat_result(st_mode=33152, st_ino=103, st_dev=36, st_nlink=1, st_uid=0, st_gid=0, st_size=7253917400, st_atime=1647212094, st_mtime=1374504622, st_ctime=1647212094)"
      ]
     },
     "execution_count": 2,
     "metadata": {},
     "output_type": "execute_result"
    }
   ],
   "source": [
    "import os\n",
    "\n",
    "for file in os.listdir(\"../input\"):\n",
    "    _ = os.stat(os.path.abspath(\".././input/\"+file)).st_size / 1024 / 1024\n",
    "    print(f\"File name : {file} and file size is {_:.2f} MB\")\n",
    "\n",
    "os.stat(os.path.abspath(\".././input/Train.csv\"))"
   ]
  },
  {
   "cell_type": "markdown",
   "metadata": {},
   "source": [
    "<p style = \"color: red\"> We have two files in the input for started, each one of them above 1 GB. In order to make the analysis easier to run on computer, <b>we will only be using the train file</b> for which we have the answers avaialable. For the test file, the predictions need to be submitted on kaggle, so it is of no use for the initial analysis</p>"
   ]
  },
  {
   "cell_type": "markdown",
   "metadata": {},
   "source": [
    "## Reading input data and saving to a database"
   ]
  },
  {
   "cell_type": "code",
   "execution_count": 3,
   "metadata": {},
   "outputs": [
    {
     "name": "stdout",
     "output_type": "stream",
     "text": [
      "/content/gdrive/MyDrive/Colab Notebooks/Keywork-Extraction-Kaggle-Stackoverflow/input\n"
     ]
    }
   ],
   "source": [
    "%cd ../input"
   ]
  },
  {
   "cell_type": "code",
   "execution_count": 118,
   "metadata": {},
   "outputs": [
    {
     "name": "stdout",
     "output_type": "stream",
     "text": [
      "Reading data to sql database train.db\n",
      "******************************\n",
      "\n",
      "Rows read: 6120000\r"
     ]
    }
   ],
   "source": [
    "# Since the files are very big, it is not possible to load it in RAM and work with it\n",
    "# We will make use of sqlite databases to run the operations\n",
    "\n",
    "import sqlite3 as s3\n",
    "from sqlalchemy import create_engine\n",
    "\n",
    "prefix = lambda filename: \"../input/\"+filename\n",
    "\n",
    "if not os.path.isfile(prefix(\"train.db\")):\n",
    "    # The database has not yet been initiated\n",
    "    \n",
    "    engine = create_engine(\"sqlite:///train.db\")\n",
    "    chunk = 180000   # 180k rows read at a time\n",
    "    \n",
    "    j = 0\n",
    "    start_index = 1\n",
    "    \n",
    "    print(\"Reading data to sql database train.db\\n\" + \"*\"*30 + \"\\n\")\n",
    "    \n",
    "    for data in pd.read_csv(prefix(\"Train.csv\"), names=[\"Id\", \"Title\", \"Body\", \"Tags\"], skiprows=1 \\\n",
    "        , chunksize=chunk, iterator=True, encoding=\"utf-8\"):\n",
    "        \n",
    "        j+=1\n",
    "        print(f\"Rows read: {j*chunk}\", end='\\r')\n",
    "        \n",
    "        data.to_sql(\"data\", engine, if_exists=\"append\")\n",
    "    "
   ]
  },
  {
   "cell_type": "markdown",
   "metadata": {},
   "source": [
    "<p style = \"color: red\"> \n",
    "Here are few key observations:\n",
    "<ol style = \"color: red\">\n",
    "    <li>There are over 6 million questions in the training datasets</li>\n",
    "    <li>Time taken to read the input data was over 30 minutes</li>\n",
    "    <li>Data read is stored in a database instead of storing it in memory</li>\n",
    "</ol>\n",
    "</p>"
   ]
  },
  {
   "cell_type": "code",
   "execution_count": 54,
   "metadata": {},
   "outputs": [
    {
     "data": {
      "text/html": [
       "<div>\n",
       "<style scoped>\n",
       "    .dataframe tbody tr th:only-of-type {\n",
       "        vertical-align: middle;\n",
       "    }\n",
       "\n",
       "    .dataframe tbody tr th {\n",
       "        vertical-align: top;\n",
       "    }\n",
       "\n",
       "    .dataframe thead th {\n",
       "        text-align: right;\n",
       "    }\n",
       "</style>\n",
       "<table border=\"1\" class=\"dataframe\">\n",
       "  <thead>\n",
       "    <tr style=\"text-align: right;\">\n",
       "      <th></th>\n",
       "      <th>Title</th>\n",
       "      <th>Body</th>\n",
       "      <th>Tags</th>\n",
       "    </tr>\n",
       "  </thead>\n",
       "  <tbody>\n",
       "    <tr>\n",
       "      <th>0</th>\n",
       "      <td>How to check if an uploaded file is an image w...</td>\n",
       "      <td>&lt;p&gt;I'd like to check if an uploaded file is an...</td>\n",
       "      <td>php image-processing file-upload upload mime-t...</td>\n",
       "    </tr>\n",
       "    <tr>\n",
       "      <th>1</th>\n",
       "      <td>How can I prevent firefox from closing when I ...</td>\n",
       "      <td>&lt;p&gt;In my favorite editor (vim), I regularly us...</td>\n",
       "      <td>firefox</td>\n",
       "    </tr>\n",
       "    <tr>\n",
       "      <th>2</th>\n",
       "      <td>R Error Invalid type (list) for variable</td>\n",
       "      <td>&lt;p&gt;I am import matlab file and construct a dat...</td>\n",
       "      <td>r matlab machine-learning</td>\n",
       "    </tr>\n",
       "    <tr>\n",
       "      <th>3</th>\n",
       "      <td>How do I replace special characters in a URL?</td>\n",
       "      <td>&lt;p&gt;This is probably very simple, but I simply ...</td>\n",
       "      <td>c# url encoding</td>\n",
       "    </tr>\n",
       "    <tr>\n",
       "      <th>4</th>\n",
       "      <td>How to modify whois contact details?</td>\n",
       "      <td>&lt;pre&gt;&lt;code&gt;function modify(.......)\\n{\\n  $mco...</td>\n",
       "      <td>php api file-get-contents</td>\n",
       "    </tr>\n",
       "  </tbody>\n",
       "</table>\n",
       "</div>"
      ],
      "text/plain": [
       "                                               Title  \\\n",
       "0  How to check if an uploaded file is an image w...   \n",
       "1  How can I prevent firefox from closing when I ...   \n",
       "2           R Error Invalid type (list) for variable   \n",
       "3      How do I replace special characters in a URL?   \n",
       "4               How to modify whois contact details?   \n",
       "\n",
       "                                                Body  \\\n",
       "0  <p>I'd like to check if an uploaded file is an...   \n",
       "1  <p>In my favorite editor (vim), I regularly us...   \n",
       "2  <p>I am import matlab file and construct a dat...   \n",
       "3  <p>This is probably very simple, but I simply ...   \n",
       "4  <pre><code>function modify(.......)\\n{\\n  $mco...   \n",
       "\n",
       "                                                Tags  \n",
       "0  php image-processing file-upload upload mime-t...  \n",
       "1                                            firefox  \n",
       "2                          r matlab machine-learning  \n",
       "3                                    c# url encoding  \n",
       "4                          php api file-get-contents  "
      ]
     },
     "execution_count": 54,
     "metadata": {},
     "output_type": "execute_result"
    }
   ],
   "source": [
    "with s3.connect(\"train.db\") as con:\n",
    "     xhead= pd.read_sql_query(\"\"\"\n",
    "                          SELECT Title, Body, Tags\n",
    "                          FROM data \n",
    "                          LIMIT 100 \n",
    "                          \"\"\", con)\n",
    "    \n",
    "xhead.head()"
   ]
  },
  {
   "cell_type": "markdown",
   "metadata": {},
   "source": [
    "As we can wee, there are 3 key columns:\n",
    "* Title - this is the title of the question posted on SO\n",
    "* Body - contains the body including the code snippets etc\n",
    "* Tags - the tags that we want to predict for new questions"
   ]
  },
  {
   "cell_type": "code",
   "execution_count": 55,
   "metadata": {},
   "outputs": [
    {
     "data": {
      "application/vnd.jupyter.widget-view+json": {
       "model_id": "13232b7e8bfe45538e11f86eb3704878",
       "version_major": 2,
       "version_minor": 0
      },
      "text/plain": [
       "interactive(children=(IntSlider(value=5, description='i', max=10), Output()), _dom_classes=('widget-interact',…"
      ]
     },
     "metadata": {},
     "output_type": "display_data"
    }
   ],
   "source": [
    "import IPython\n",
    "import ipywidgets as widgets\n",
    "\n",
    "@widgets.interact(i = (0, 10))\n",
    "def fun(i):\n",
    "    return IPython.display.HTML(f\"<h3>Label</h3><h4><code>{xhead.Tags[i].split()}</code></h4><hr>\" + f\"<h2>{xhead.Title[i]}</h2>\" + xhead.Body[i])\n",
    "    "
   ]
  },
  {
   "cell_type": "markdown",
   "metadata": {},
   "source": [
    "### Count the total number of rows"
   ]
  },
  {
   "cell_type": "code",
   "execution_count": 6,
   "metadata": {},
   "outputs": [
    {
     "data": {
      "text/html": [
       "<div>\n",
       "<style scoped>\n",
       "    .dataframe tbody tr th:only-of-type {\n",
       "        vertical-align: middle;\n",
       "    }\n",
       "\n",
       "    .dataframe tbody tr th {\n",
       "        vertical-align: top;\n",
       "    }\n",
       "\n",
       "    .dataframe thead th {\n",
       "        text-align: right;\n",
       "    }\n",
       "</style>\n",
       "<table border=\"1\" class=\"dataframe\">\n",
       "  <thead>\n",
       "    <tr style=\"text-align: right;\">\n",
       "      <th></th>\n",
       "      <th>count(*)</th>\n",
       "    </tr>\n",
       "  </thead>\n",
       "  <tbody>\n",
       "    <tr>\n",
       "      <th>0</th>\n",
       "      <td>6034195</td>\n",
       "    </tr>\n",
       "  </tbody>\n",
       "</table>\n",
       "</div>"
      ],
      "text/plain": [
       "   count(*)\n",
       "0   6034195"
      ]
     },
     "execution_count": 6,
     "metadata": {},
     "output_type": "execute_result"
    }
   ],
   "source": [
    "with s3.connect(\"train.db\") as con:\n",
    "    x = pd.read_sql_query(\"\"\"\n",
    "                          SELECT count(*) \n",
    "                          FROM data \n",
    "                          \"\"\", con)\n",
    "    \n",
    "x"
   ]
  },
  {
   "cell_type": "markdown",
   "metadata": {},
   "source": [
    "Since this is a questions database, there is quite a possibility that one question is posted more than once \n",
    "by the same user. So, we want to remove all such duplicates"
   ]
  },
  {
   "cell_type": "markdown",
   "metadata": {},
   "source": [
    "### Removing duplicate questions and deep-dive"
   ]
  },
  {
   "cell_type": "code",
   "execution_count": 8,
   "metadata": {},
   "outputs": [
    {
     "name": "stdout",
     "output_type": "stream",
     "text": [
      "/content/gdrive/MyDrive/Colab Notebooks/Keywork-Extraction-Kaggle-Stackoverflow/input\n"
     ]
    }
   ],
   "source": [
    "!pwd\n",
    "\n",
    "# !echo %cd%"
   ]
  },
  {
   "cell_type": "code",
   "execution_count": 9,
   "metadata": {},
   "outputs": [],
   "source": [
    "with s3.connect(\"train.db\") as con:\n",
    "    \n",
    "    # cur = con.cursor()\n",
    "    con.execute('PRAGMA max_page_count = 2147483646')\n",
    "    \n",
    "    data_grouped = pd.read_sql_query(\"\"\"\n",
    "                                Select Title, Body, Tags, count(*) as duplicate_count\n",
    "                                from data \n",
    "                                group by Title, Body, Tags\n",
    "                                \"\"\", con)"
   ]
  },
  {
   "cell_type": "code",
   "execution_count": 26,
   "metadata": {},
   "outputs": [
    {
     "data": {
      "text/html": [
       "<div>\n",
       "<style scoped>\n",
       "    .dataframe tbody tr th:only-of-type {\n",
       "        vertical-align: middle;\n",
       "    }\n",
       "\n",
       "    .dataframe tbody tr th {\n",
       "        vertical-align: top;\n",
       "    }\n",
       "\n",
       "    .dataframe thead th {\n",
       "        text-align: right;\n",
       "    }\n",
       "</style>\n",
       "<table border=\"1\" class=\"dataframe\">\n",
       "  <thead>\n",
       "    <tr style=\"text-align: right;\">\n",
       "      <th></th>\n",
       "      <th>Title</th>\n",
       "      <th>Body</th>\n",
       "      <th>Tags</th>\n",
       "      <th>duplicate_count</th>\n",
       "    </tr>\n",
       "  </thead>\n",
       "  <tbody>\n",
       "    <tr>\n",
       "      <th>0</th>\n",
       "      <td>Implementing Boundary Value Analysis of S...</td>\n",
       "      <td>&lt;pre&gt;&lt;code&gt;#include&amp;lt;iostream&amp;gt;\\n#include&amp;...</td>\n",
       "      <td>c++ c</td>\n",
       "      <td>1</td>\n",
       "    </tr>\n",
       "    <tr>\n",
       "      <th>1</th>\n",
       "      <td>Dynamic Datagrid Binding in Silverlight?</td>\n",
       "      <td>&lt;p&gt;I should do binding for datagrid dynamicall...</td>\n",
       "      <td>c# silverlight data-binding</td>\n",
       "      <td>1</td>\n",
       "    </tr>\n",
       "  </tbody>\n",
       "</table>\n",
       "</div>"
      ],
      "text/plain": [
       "                                               Title  \\\n",
       "0       Implementing Boundary Value Analysis of S...   \n",
       "1           Dynamic Datagrid Binding in Silverlight?   \n",
       "\n",
       "                                                Body  \\\n",
       "0  <pre><code>#include&lt;iostream&gt;\\n#include&...   \n",
       "1  <p>I should do binding for datagrid dynamicall...   \n",
       "\n",
       "                          Tags  duplicate_count  \n",
       "0                        c++ c                1  \n",
       "1  c# silverlight data-binding                1  "
      ]
     },
     "execution_count": 26,
     "metadata": {},
     "output_type": "execute_result"
    }
   ],
   "source": [
    "data_grouped.head(2)"
   ]
  },
  {
   "cell_type": "code",
   "execution_count": 56,
   "metadata": {},
   "outputs": [],
   "source": [
    "# We will store the condensed data so that it is easier to load the next time\n",
    "\n",
    "engine = create_engine(\"sqlite:///train.db\")\n",
    "data_grouped.to_sql(\"data_no_dupes\", engine, if_exists=\"append\")"
   ]
  },
  {
   "cell_type": "code",
   "execution_count": 62,
   "metadata": {},
   "outputs": [
    {
     "data": {
      "text/html": [
       "<div>\n",
       "<style scoped>\n",
       "    .dataframe tbody tr th:only-of-type {\n",
       "        vertical-align: middle;\n",
       "    }\n",
       "\n",
       "    .dataframe tbody tr th {\n",
       "        vertical-align: top;\n",
       "    }\n",
       "\n",
       "    .dataframe thead th {\n",
       "        text-align: right;\n",
       "    }\n",
       "</style>\n",
       "<table border=\"1\" class=\"dataframe\">\n",
       "  <thead>\n",
       "    <tr style=\"text-align: right;\">\n",
       "      <th></th>\n",
       "      <th>tbl_name</th>\n",
       "    </tr>\n",
       "  </thead>\n",
       "  <tbody>\n",
       "    <tr>\n",
       "      <th>0</th>\n",
       "      <td>data</td>\n",
       "    </tr>\n",
       "    <tr>\n",
       "      <th>1</th>\n",
       "      <td>data_no_dupes</td>\n",
       "    </tr>\n",
       "  </tbody>\n",
       "</table>\n",
       "</div>"
      ],
      "text/plain": [
       "        tbl_name\n",
       "0           data\n",
       "1  data_no_dupes"
      ]
     },
     "execution_count": 62,
     "metadata": {},
     "output_type": "execute_result"
    }
   ],
   "source": [
    "# Let's look at the tables in our updated database\n",
    "\n",
    "with s3.connect(\"train.db\") as con:\n",
    "    _ = pd.read_sql_query(\"\"\"\n",
    "    SELECT distinct tbl_name FROM sqlite_master\n",
    "    \"\"\", con)\n",
    "_"
   ]
  },
  {
   "cell_type": "code",
   "execution_count": null,
   "metadata": {},
   "outputs": [],
   "source": [
    "del data_grouped"
   ]
  },
  {
   "cell_type": "code",
   "execution_count": 5,
   "metadata": {},
   "outputs": [
    {
     "name": "stdout",
     "output_type": "stream",
     "text": [
      "/content/gdrive/MyDrive/Colab Notebooks/Keywork-Extraction-Kaggle-Stackoverflow/input\n",
      "/content/gdrive/MyDrive/Colab Notebooks/Keywork-Extraction-Kaggle-Stackoverflow/input\n"
     ]
    },
    {
     "data": {
      "text/html": [
       "<div>\n",
       "<style scoped>\n",
       "    .dataframe tbody tr th:only-of-type {\n",
       "        vertical-align: middle;\n",
       "    }\n",
       "\n",
       "    .dataframe tbody tr th {\n",
       "        vertical-align: top;\n",
       "    }\n",
       "\n",
       "    .dataframe thead th {\n",
       "        text-align: right;\n",
       "    }\n",
       "</style>\n",
       "<table border=\"1\" class=\"dataframe\">\n",
       "  <thead>\n",
       "    <tr style=\"text-align: right;\">\n",
       "      <th></th>\n",
       "      <th>index</th>\n",
       "      <th>Title</th>\n",
       "      <th>Body</th>\n",
       "      <th>Tags</th>\n",
       "      <th>duplicate_count</th>\n",
       "    </tr>\n",
       "  </thead>\n",
       "  <tbody>\n",
       "    <tr>\n",
       "      <th>0</th>\n",
       "      <td>0</td>\n",
       "      <td>Implementing Boundary Value Analysis of S...</td>\n",
       "      <td>&lt;pre&gt;&lt;code&gt;#include&amp;lt;iostream&amp;gt;\\n#include&amp;...</td>\n",
       "      <td>c++ c</td>\n",
       "      <td>1</td>\n",
       "    </tr>\n",
       "  </tbody>\n",
       "</table>\n",
       "</div>"
      ],
      "text/plain": [
       "   index                                              Title  \\\n",
       "0      0       Implementing Boundary Value Analysis of S...   \n",
       "\n",
       "                                                Body   Tags  duplicate_count  \n",
       "0  <pre><code>#include&lt;iostream&gt;\\n#include&...  c++ c                1  "
      ]
     },
     "execution_count": 5,
     "metadata": {},
     "output_type": "execute_result"
    }
   ],
   "source": [
    "# let's read data from the database directly\n",
    "%cd ../input\n",
    "!pwd\n",
    "\n",
    "engine = create_engine(\"sqlite:///train.db\")\n",
    "data_grouped = pd.read_sql_table(\"data_no_dupes\", engine)\n",
    "\n",
    "data_grouped.head(1)"
   ]
  },
  {
   "cell_type": "markdown",
   "metadata": {},
   "source": [
    "The reduced data can be read in around 2 minutes now"
   ]
  },
  {
   "cell_type": "markdown",
   "metadata": {},
   "source": [
    "## Understand the duplication pattern\n",
    "\n",
    "We will try to dig deep and understand how many questions repeat, and what is the size of new dataframe after reducing the duplicated"
   ]
  },
  {
   "cell_type": "code",
   "execution_count": 47,
   "metadata": {},
   "outputs": [
    {
     "data": {
      "image/png": "[encoded data removed]",
      "text/plain": [
       "<Figure size 432x288 with 1 Axes>"
      ]
     },
     "metadata": {},
     "output_type": "display_data"
    }
   ],
   "source": [
    "import seaborn as sns\n",
    "sns.set_style(\"whitegrid\")\n",
    "\n",
    "x = data_grouped.loc[:, [\"duplicate_count\"]].groupby(by = \"duplicate_count\").size()\n",
    "x = x / sum(x)\n",
    "\n",
    "ax = sns.barplot(x.index, x)\n",
    "ylabels = ax.get_yticks()\n",
    "ax.set_yticklabels([f\"{i:.2%}\" for i in ylabels])\n",
    "plt.show()"
   ]
  },
  {
   "cell_type": "code",
   "execution_count": 53,
   "metadata": {},
   "outputs": [
    {
     "data": {
      "text/plain": [
       "1827881"
      ]
     },
     "execution_count": 53,
     "metadata": {},
     "output_type": "execute_result"
    }
   ],
   "source": [
    "6034195 - data_grouped.shape[0]"
   ]
  },
  {
   "cell_type": "markdown",
   "metadata": {},
   "source": [
    "This goes to show that:\n",
    "1. There were 2 million duplicates in the dataset, or __35 percent__\n",
    "2. Around 30 percent of the questions had at least 1 duplicate\n",
    "3. Very few, around 4 percent, of the questions had 2 or more duplicates"
   ]
  },
  {
   "cell_type": "code",
   "execution_count": null,
   "metadata": {},
   "outputs": [],
   "source": []
  }
 ],
 "metadata": {
  "interpreter": {
   "hash": "30295c5bec572e859485b1ffa5e89b8b3e2022ef6e3e739c1ac40f143a557caf"
  },
  "kernelspec": {
   "display_name": "Python 3.6.9 64-bit",
   "language": "python",
   "name": "python3"
  },
  "language_info": {
   "codemirror_mode": {
    "name": "ipython",
    "version": 3
   },
   "file_extension": ".py",
   "mimetype": "text/x-python",
   "name": "python",
   "nbconvert_exporter": "python",
   "pygments_lexer": "ipython3",
   "version": "3.7.13"
  },
  "orig_nbformat": 4
 },
 "nbformat": 4,
 "nbformat_minor": 2
}
