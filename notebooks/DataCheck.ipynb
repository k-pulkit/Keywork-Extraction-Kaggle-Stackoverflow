{
 "cells": [
  {
   "cell_type": "markdown",
   "metadata": {},
   "source": [
    "## Importing libraries"
   ]
  },
  {
   "cell_type": "code",
   "execution_count": 63,
   "metadata": {},
   "outputs": [],
   "source": [
    "import numpy as np\n",
    "import pandas as pd\n",
    "\n",
    "import matplotlib.pyplot as plt\n",
    "import seaborn as sns\n",
    "import warnings\n",
    "\n",
    "warnings.filterwarnings(\"ignore\")\n",
    "\n",
    "# database libraries\n",
    "import sqlite3 as s3\n",
    "from sqlalchemy import create_engine"
   ]
  },
  {
   "cell_type": "code",
   "execution_count": 64,
   "metadata": {},
   "outputs": [
    {
     "name": "stdout",
     "output_type": "stream",
     "text": [
      "File name : SampleSubmission.csv and file size is 78.72 MB\n",
      "File name : Test.csv and file size is 2253.54 MB\n",
      "File name : Train.csv and file size is 6917.87 MB\n"
     ]
    },
    {
     "data": {
      "text/plain": [
       "os.stat_result(st_mode=33206, st_ino=93, st_dev=428019990, st_nlink=0, st_uid=0, st_gid=0, st_size=7253917400, st_atime=1647212094, st_mtime=1374504622, st_ctime=1647212094)"
      ]
     },
     "execution_count": 64,
     "metadata": {},
     "output_type": "execute_result"
    }
   ],
   "source": [
    "import os\n",
    "\n",
    "for file in os.listdir(\"../input\"):\n",
    "    _ = os.stat(os.path.abspath(\".././input/\"+file)).st_size / 1024 / 1024\n",
    "    print(f\"File name : {file} and file size is {_:.2f} MB\")\n",
    "\n",
    "os.stat(os.path.abspath(\".././input/Train.csv\"))"
   ]
  },
  {
   "cell_type": "markdown",
   "metadata": {},
   "source": [
    "<p style = \"color: red\"> We have two files in the input for started, each one of them above 1 GB. In order to make the analysis easier to run on computer, <b>we will only be using the train file</b> for which we have the answers avaialable. For the test file, the predictions need to be submitted on kaggle, so it is of no use for the initial analysis</p>"
   ]
  },
  {
   "cell_type": "markdown",
   "metadata": {},
   "source": [
    "## Reading input data and saving to a database"
   ]
  },
  {
   "cell_type": "code",
   "execution_count": 104,
   "metadata": {},
   "outputs": [
    {
     "name": "stdout",
     "output_type": "stream",
     "text": [
      "g:\\My Drive\\Colab Notebooks\\Keywork-Extraction-Kaggle-Stackoverflow\\input\n"
     ]
    }
   ],
   "source": [
    "%cd ../input"
   ]
  },
  {
   "cell_type": "code",
   "execution_count": 118,
   "metadata": {},
   "outputs": [
    {
     "name": "stdout",
     "output_type": "stream",
     "text": [
      "Reading data to sql database train.db\n",
      "******************************\n",
      "\n",
      "Rows read: 6120000\r"
     ]
    }
   ],
   "source": [
    "# Since the files are very big, it is not possible to load it in RAM and work with it\n",
    "# We will make use of sqlite databases to run the operations\n",
    "\n",
    "import sqlite3 as s3\n",
    "from sqlalchemy import create_engine\n",
    "\n",
    "prefix = lambda filename: \"../input/\"+filename\n",
    "\n",
    "if not os.path.isfile(prefix(\"train.db\")):\n",
    "    # The database has not yet been initiated\n",
    "    \n",
    "    engine = create_engine(\"sqlite:///train.db\")\n",
    "    chunk = 180000   # 180k rows read at a time\n",
    "    \n",
    "    j = 0\n",
    "    start_index = 1\n",
    "    \n",
    "    print(\"Reading data to sql database train.db\\n\" + \"*\"*30 + \"\\n\")\n",
    "    \n",
    "    for data in pd.read_csv(prefix(\"Train.csv\"), names=[\"Id\", \"Title\", \"Body\", \"Tags\"], skiprows=1 \\\n",
    "        , chunksize=chunk, iterator=True, encoding=\"utf-8\"):\n",
    "        \n",
    "        j+=1\n",
    "        print(f\"Rows read: {j*chunk}\", end='\\r')\n",
    "        \n",
    "        data.to_sql(\"data\", engine, if_exists=\"append\")\n",
    "    "
   ]
  },
  {
   "cell_type": "markdown",
   "metadata": {},
   "source": [
    "<p style = \"color: red\"> \n",
    "Here are few key observations:\n",
    "<ol style = \"color: red\">\n",
    "    <li>There are over 6 million questions in the training datasets</li>\n",
    "    <li>Time taken to read the input data was over 30 minutes</li>\n",
    "    <li>Data read is stored in a database instead of storing it in memory</li>\n",
    "</ol>\n",
    "</p>"
   ]
  },
  {
   "cell_type": "code",
   "execution_count": 154,
   "metadata": {},
   "outputs": [
    {
     "data": {
      "text/html": [
       "<div>\n",
       "<style scoped>\n",
       "    .dataframe tbody tr th:only-of-type {\n",
       "        vertical-align: middle;\n",
       "    }\n",
       "\n",
       "    .dataframe tbody tr th {\n",
       "        vertical-align: top;\n",
       "    }\n",
       "\n",
       "    .dataframe thead th {\n",
       "        text-align: right;\n",
       "    }\n",
       "</style>\n",
       "<table border=\"1\" class=\"dataframe\">\n",
       "  <thead>\n",
       "    <tr style=\"text-align: right;\">\n",
       "      <th></th>\n",
       "      <th>Title</th>\n",
       "      <th>Body</th>\n",
       "      <th>Tags</th>\n",
       "    </tr>\n",
       "  </thead>\n",
       "  <tbody>\n",
       "    <tr>\n",
       "      <th>0</th>\n",
       "      <td>How to check if an uploaded file is an image w...</td>\n",
       "      <td>&lt;p&gt;I'd like to check if an uploaded file is an...</td>\n",
       "      <td>php image-processing file-upload upload mime-t...</td>\n",
       "    </tr>\n",
       "    <tr>\n",
       "      <th>1</th>\n",
       "      <td>How can I prevent firefox from closing when I ...</td>\n",
       "      <td>&lt;p&gt;In my favorite editor (vim), I regularly us...</td>\n",
       "      <td>firefox</td>\n",
       "    </tr>\n",
       "    <tr>\n",
       "      <th>2</th>\n",
       "      <td>R Error Invalid type (list) for variable</td>\n",
       "      <td>&lt;p&gt;I am import matlab file and construct a dat...</td>\n",
       "      <td>r matlab machine-learning</td>\n",
       "    </tr>\n",
       "    <tr>\n",
       "      <th>3</th>\n",
       "      <td>How do I replace special characters in a URL?</td>\n",
       "      <td>&lt;p&gt;This is probably very simple, but I simply ...</td>\n",
       "      <td>c# url encoding</td>\n",
       "    </tr>\n",
       "    <tr>\n",
       "      <th>4</th>\n",
       "      <td>How to modify whois contact details?</td>\n",
       "      <td>&lt;pre&gt;&lt;code&gt;function modify(.......)\\n{\\n  $mco...</td>\n",
       "      <td>php api file-get-contents</td>\n",
       "    </tr>\n",
       "  </tbody>\n",
       "</table>\n",
       "</div>"
      ],
      "text/plain": [
       "                                               Title  \\\n",
       "0  How to check if an uploaded file is an image w...   \n",
       "1  How can I prevent firefox from closing when I ...   \n",
       "2           R Error Invalid type (list) for variable   \n",
       "3      How do I replace special characters in a URL?   \n",
       "4               How to modify whois contact details?   \n",
       "\n",
       "                                                Body  \\\n",
       "0  <p>I'd like to check if an uploaded file is an...   \n",
       "1  <p>In my favorite editor (vim), I regularly us...   \n",
       "2  <p>I am import matlab file and construct a dat...   \n",
       "3  <p>This is probably very simple, but I simply ...   \n",
       "4  <pre><code>function modify(.......)\\n{\\n  $mco...   \n",
       "\n",
       "                                                Tags  \n",
       "0  php image-processing file-upload upload mime-t...  \n",
       "1                                            firefox  \n",
       "2                          r matlab machine-learning  \n",
       "3                                    c# url encoding  \n",
       "4                          php api file-get-contents  "
      ]
     },
     "execution_count": 154,
     "metadata": {},
     "output_type": "execute_result"
    }
   ],
   "source": [
    "with s3.connect(\"train.db\") as con:\n",
    "    x = pd.read_sql_query(\"\"\"\n",
    "                          SELECT Title, Body, Tags\n",
    "                          FROM data \n",
    "                          LIMIT 100 \n",
    "                          \"\"\", con)\n",
    "    \n",
    "x.head()"
   ]
  },
  {
   "cell_type": "markdown",
   "metadata": {},
   "source": [
    "As we can wee, there are 3 key columns:\n",
    "* Title - this is the title of the question posted on SO\n",
    "* Body - contains the body including the code snippets etc\n",
    "* Tags - the tags that we want to predict for new questions"
   ]
  },
  {
   "cell_type": "code",
   "execution_count": 177,
   "metadata": {},
   "outputs": [
    {
     "data": {
      "application/vnd.jupyter.widget-view+json": {
       "model_id": "849ec581b7434cd88dc24f3bac0eeeb3",
       "version_major": 2,
       "version_minor": 0
      },
      "text/plain": [
       "interactive(children=(IntSlider(value=5, description='i', max=10), Output()), _dom_classes=('widget-interact',…"
      ]
     },
     "metadata": {},
     "output_type": "display_data"
    }
   ],
   "source": [
    "import IPython\n",
    "import ipywidgets as widgets\n",
    "\n",
    "@widgets.interact(i = (0, 10))\n",
    "def fun(i):\n",
    "    return IPython.display.HTML(f\"<h3>Label</h3><h4><code>{x.Tags[i].split()}</code></h4><hr>\" + f\"<h2>{x.Title[i]}</h2>\" + x.Body[i])\n",
    "    "
   ]
  },
  {
   "cell_type": "markdown",
   "metadata": {},
   "source": [
    "### Count the total number of rows"
   ]
  },
  {
   "cell_type": "code",
   "execution_count": 126,
   "metadata": {},
   "outputs": [
    {
     "data": {
      "text/html": [
       "<div>\n",
       "<style scoped>\n",
       "    .dataframe tbody tr th:only-of-type {\n",
       "        vertical-align: middle;\n",
       "    }\n",
       "\n",
       "    .dataframe tbody tr th {\n",
       "        vertical-align: top;\n",
       "    }\n",
       "\n",
       "    .dataframe thead th {\n",
       "        text-align: right;\n",
       "    }\n",
       "</style>\n",
       "<table border=\"1\" class=\"dataframe\">\n",
       "  <thead>\n",
       "    <tr style=\"text-align: right;\">\n",
       "      <th></th>\n",
       "      <th>count(*)</th>\n",
       "    </tr>\n",
       "  </thead>\n",
       "  <tbody>\n",
       "    <tr>\n",
       "      <th>0</th>\n",
       "      <td>6034195</td>\n",
       "    </tr>\n",
       "  </tbody>\n",
       "</table>\n",
       "</div>"
      ],
      "text/plain": [
       "   count(*)\n",
       "0   6034195"
      ]
     },
     "execution_count": 126,
     "metadata": {},
     "output_type": "execute_result"
    }
   ],
   "source": [
    "with s3.connect(\"train.db\") as con:\n",
    "    x = pd.read_sql_query(\"\"\"\n",
    "                          SELECT count(*) \n",
    "                          FROM data \n",
    "                          \"\"\", con)\n",
    "    \n",
    "x"
   ]
  },
  {
   "cell_type": "code",
   "execution_count": null,
   "metadata": {},
   "outputs": [],
   "source": []
  },
  {
   "cell_type": "code",
   "execution_count": null,
   "metadata": {},
   "outputs": [],
   "source": []
  },
  {
   "cell_type": "code",
   "execution_count": null,
   "metadata": {},
   "outputs": [],
   "source": []
  }
 ],
 "metadata": {
  "interpreter": {
   "hash": "30295c5bec572e859485b1ffa5e89b8b3e2022ef6e3e739c1ac40f143a557caf"
  },
  "kernelspec": {
   "display_name": "Python 3.6.9 64-bit",
   "language": "python",
   "name": "python3"
  },
  "language_info": {
   "codemirror_mode": {
    "name": "ipython",
    "version": 3
   },
   "file_extension": ".py",
   "mimetype": "text/x-python",
   "name": "python",
   "nbconvert_exporter": "python",
   "pygments_lexer": "ipython3",
   "version": "3.9.5"
  },
  "orig_nbformat": 4
 },
 "nbformat": 4,
 "nbformat_minor": 2
}
