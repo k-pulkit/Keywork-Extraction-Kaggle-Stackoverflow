{
 "cells": [
  {
   "cell_type": "code",
   "execution_count": 1,
   "id": "6e2f0860",
   "metadata": {
    "_cell_guid": "b1076dfc-b9ad-4769-8c92-a6c4dae69d19",
    "_uuid": "8f2839f25d086af736a60e9eeb907d3b93b6e0e5",
    "execution": {
     "iopub.execute_input": "2022-03-13T09:52:21.335322Z",
     "iopub.status.busy": "2022-03-13T09:52:21.331029Z",
     "iopub.status.idle": "2022-03-13T09:52:21.343178Z",
     "shell.execute_reply": "2022-03-13T09:52:21.342373Z",
     "shell.execute_reply.started": "2022-03-13T09:45:03.479463Z"
    },
    "papermill": {
     "duration": 0.028416,
     "end_time": "2022-03-13T09:52:21.343408",
     "exception": false,
     "start_time": "2022-03-13T09:52:21.314992",
     "status": "completed"
    },
    "tags": []
   },
   "outputs": [
    {
     "name": "stdout",
     "output_type": "stream",
     "text": [
      "/kaggle/input/facebook-recruiting-iii-keyword-extraction/Train.zip\n",
      "/kaggle/input/facebook-recruiting-iii-keyword-extraction/SampleSubmission.csv\n",
      "/kaggle/input/facebook-recruiting-iii-keyword-extraction/Test.zip\n"
     ]
    }
   ],
   "source": [
    "# This Python 3 environment comes with many helpful analytics libraries installed\n",
    "# It is defined by the kaggle/python Docker image: https://github.com/kaggle/docker-python\n",
    "# For example, here's several helpful packages to load\n",
    "\n",
    "import numpy as np # linear algebra\n",
    "import pandas as pd # data processing, CSV file I/O (e.g. pd.read_csv)\n",
    "\n",
    "# Input data files are available in the read-only \"../input/\" directory\n",
    "# For example, running this (by clicking run or pressing Shift+Enter) will list all files under the input directory\n",
    "\n",
    "import os\n",
    "for dirname, _, filenames in os.walk('/kaggle/input'):\n",
    "    for filename in filenames:\n",
    "        print(os.path.join(dirname, filename))\n",
    "\n",
    "# You can write up to 20GB to the current directory (/kaggle/working/) that gets preserved as output when you create a version using \"Save & Run All\" \n",
    "# You can also write temporary files to /kaggle/temp/, but they won't be saved outside of the current session"
   ]
  },
  {
   "cell_type": "code",
   "execution_count": null,
   "id": "56a779d3",
   "metadata": {
    "execution": {
     "iopub.execute_input": "2022-03-13T09:47:08.067404Z",
     "iopub.status.busy": "2022-03-13T09:47:08.066975Z",
     "iopub.status.idle": "2022-03-13T09:47:08.851135Z",
     "shell.execute_reply": "2022-03-13T09:47:08.850257Z",
     "shell.execute_reply.started": "2022-03-13T09:47:08.067371Z"
    },
    "papermill": {
     "duration": 0.004397,
     "end_time": "2022-03-13T09:52:21.355415",
     "exception": false,
     "start_time": "2022-03-13T09:52:21.351018",
     "status": "completed"
    },
    "tags": []
   },
   "outputs": [],
   "source": []
  },
  {
   "cell_type": "code",
   "execution_count": 2,
   "id": "e25e4bae",
   "metadata": {
    "execution": {
     "iopub.execute_input": "2022-03-13T09:52:21.376983Z",
     "iopub.status.busy": "2022-03-13T09:52:21.375756Z",
     "iopub.status.idle": "2022-03-13T09:52:22.198873Z",
     "shell.execute_reply": "2022-03-13T09:52:22.198369Z",
     "shell.execute_reply.started": "2022-03-13T09:45:27.665966Z"
    },
    "papermill": {
     "duration": 0.839014,
     "end_time": "2022-03-13T09:52:22.199017",
     "exception": false,
     "start_time": "2022-03-13T09:52:21.360003",
     "status": "completed"
    },
    "tags": []
   },
   "outputs": [
    {
     "name": "stdout",
     "output_type": "stream",
     "text": [
      "__notebook__.ipynb\r\n"
     ]
    }
   ],
   "source": [
    "ls"
   ]
  },
  {
   "cell_type": "code",
   "execution_count": null,
   "id": "59593353",
   "metadata": {
    "papermill": {
     "duration": 0.004594,
     "end_time": "2022-03-13T09:52:22.208756",
     "exception": false,
     "start_time": "2022-03-13T09:52:22.204162",
     "status": "completed"
    },
    "tags": []
   },
   "outputs": [],
   "source": []
  }
 ],
 "metadata": {
  "kernelspec": {
   "display_name": "Python 3",
   "language": "python",
   "name": "python3"
  },
  "language_info": {
   "codemirror_mode": {
    "name": "ipython",
    "version": 3
   },
   "file_extension": ".py",
   "mimetype": "text/x-python",
   "name": "python",
   "nbconvert_exporter": "python",
   "pygments_lexer": "ipython3",
   "version": "3.7.12"
  },
  "papermill": {
   "default_parameters": {},
   "duration": 12.818348,
   "end_time": "2022-03-13T09:52:22.927411",
   "environment_variables": {},
   "exception": null,
   "input_path": "__notebook__.ipynb",
   "output_path": "__notebook__.ipynb",
   "parameters": {},
   "start_time": "2022-03-13T09:52:10.109063",
   "version": "2.3.3"
  }
 },
 "nbformat": 4,
 "nbformat_minor": 5
}
